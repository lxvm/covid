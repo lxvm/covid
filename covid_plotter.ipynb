{
 "cells": [
  {
   "cell_type": "markdown",
   "id": "measured-kuwait",
   "metadata": {},
   "source": [
    "# System Requirements\n",
    "On Debian\n",
    "```\n",
    "$ sudo apt install python3-pip nodejs npm\n",
    "$ pip install 'jupyterlab<3.0.0' bokeh pandas watermark\n",
    "$ jupyter labextension install @jupyter-widgets/jupyterlab-manager\n",
    "$ jupyter labextension install @bokeh/jupyter_bokeh\n",
    "```\n",
    "The `jupyter_bokeh` package does not yet support `jupyterlab>=3.0.0`.\n",
    "\n",
    "References:\n",
    "- [Using bokeh with jupyterlab](https://docs.bokeh.org/en/latest/docs/user_guide/jupyter.html#jupyterlab)\n",
    "- [`Jupyter_bokeh` support](https://github.com/bokeh/jupyter_bokeh)"
   ]
  },
  {
   "cell_type": "code",
   "execution_count": null,
   "id": "renewable-aquatic",
   "metadata": {},
   "outputs": [],
   "source": [
    "import pandas as pd\n",
    "from bokeh.plotting import show\n",
    "from bokeh.io import output_notebook\n",
    "output_notebook()\n",
    "\n",
    "import covid_plotter"
   ]
  },
  {
   "cell_type": "code",
   "execution_count": null,
   "id": "usual-indonesia",
   "metadata": {},
   "outputs": [],
   "source": [
    "# Fetch NYT COVID-19 data\n",
    "url = \"http://raw.githubusercontent.com/nytimes/covid-19-data/master/us-counties.csv\"\n",
    "df_full = pd.read_csv(url)\n",
    "# Create date-time index for plotting\n",
    "df_full['date'] = pd.to_datetime(df_full['date'])"
   ]
  },
  {
   "cell_type": "code",
   "execution_count": null,
   "id": "working-tennis",
   "metadata": {},
   "outputs": [],
   "source": [
    "# Create national aggregates by date\n",
    "df_plot = df_full.loc[:, ['date', 'cases', 'deaths']].groupby('date').agg('sum').reset_index()\n",
    "# Create columns for cobweb data\n",
    "df_plot = df_plot.join(df_plot[['cases', 'deaths']].shift(fill_value=0).add_prefix('cobweb_'))"
   ]
  },
  {
   "cell_type": "code",
   "execution_count": null,
   "id": "ecological-contents",
   "metadata": {},
   "outputs": [],
   "source": [
    "# Create the plot layout\n",
    "display = covid_plotter.make_plots(df_full, df_plot)"
   ]
  },
  {
   "cell_type": "code",
   "execution_count": null,
   "id": "primary-wheat",
   "metadata": {},
   "outputs": [],
   "source": [
    "show(display)"
   ]
  },
  {
   "cell_type": "code",
   "execution_count": 1,
   "id": "geological-southeast",
   "metadata": {},
   "outputs": [
    {
     "name": "stdout",
     "output_type": "stream",
     "text": [
      "Python implementation: CPython\n",
      "Python version       : 3.9.2\n",
      "IPython version      : 7.21.0\n",
      "\n",
      "bokeh     : 2.3.0\n",
      "pandas    : 1.2.3\n",
      "jupyterlab: 2.2.9\n",
      "\n",
      "Compiler    : GCC 10.2.1 20210110\n",
      "OS          : Linux\n",
      "Release     : 5.4.91-microsoft-standard-WSL2\n",
      "Machine     : x86_64\n",
      "Processor   : \n",
      "CPU cores   : 12\n",
      "Architecture: 64bit\n",
      "\n",
      "Watermark: 2.2.0\n",
      "\n"
     ]
    }
   ],
   "source": [
    "%load_ext watermark\n",
    "%watermark -v -m -w -p bokeh,pandas,jupyterlab"
   ]
  },
  {
   "cell_type": "code",
   "execution_count": null,
   "id": "automated-spine",
   "metadata": {},
   "outputs": [],
   "source": []
  }
 ],
 "metadata": {
  "kernelspec": {
   "display_name": "Python 3",
   "language": "python",
   "name": "python3"
  },
  "language_info": {
   "codemirror_mode": {
    "name": "ipython",
    "version": 3
   },
   "file_extension": ".py",
   "mimetype": "text/x-python",
   "name": "python",
   "nbconvert_exporter": "python",
   "pygments_lexer": "ipython3",
   "version": "3.9.2"
  }
 },
 "nbformat": 4,
 "nbformat_minor": 5
}
